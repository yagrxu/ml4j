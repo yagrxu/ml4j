{
 "cells": [
  {
   "cell_type": "code",
   "execution_count": 12,
   "metadata": {},
   "outputs": [
    {
     "data": {
      "text/html": [
       "<div>\n",
       "<style scoped>\n",
       "    .dataframe tbody tr th:only-of-type {\n",
       "        vertical-align: middle;\n",
       "    }\n",
       "\n",
       "    .dataframe tbody tr th {\n",
       "        vertical-align: top;\n",
       "    }\n",
       "\n",
       "    .dataframe thead th {\n",
       "        text-align: right;\n",
       "    }\n",
       "</style>\n",
       "<table border=\"1\" class=\"dataframe\">\n",
       "  <thead>\n",
       "    <tr style=\"text-align: right;\">\n",
       "      <th></th>\n",
       "      <th>Area</th>\n",
       "      <th>City</th>\n",
       "      <th>Source complete</th>\n",
       "      <th>Country</th>\n",
       "      <th>Created Date Time</th>\n",
       "      <th>Occurrence Date</th>\n",
       "      <th>Expiration Date</th>\n",
       "      <th>Current Cleaned Headline</th>\n",
       "      <th>Current Cleaned Description</th>\n",
       "      <th>Severity Number</th>\n",
       "      <th>Categories</th>\n",
       "    </tr>\n",
       "  </thead>\n",
       "  <tbody>\n",
       "    <tr>\n",
       "      <th>0</th>\n",
       "      <td>NaN</td>\n",
       "      <td>Ontario</td>\n",
       "      <td>NIMC</td>\n",
       "      <td>Canada</td>\n",
       "      <td>10.12.2012 18:55</td>\n",
       "      <td>NaN</td>\n",
       "      <td>NaN</td>\n",
       "      <td>*Updated Loc* Ontario-Ontario elementary schoo...</td>\n",
       "      <td>Media reports indicate that members of the Ele...</td>\n",
       "      <td>2</td>\n",
       "      <td>Civil Service Strike</td>\n",
       "    </tr>\n",
       "    <tr>\n",
       "      <th>1</th>\n",
       "      <td>NaN</td>\n",
       "      <td>Multiple Locations</td>\n",
       "      <td>NIMC</td>\n",
       "      <td>United Arab Emirates</td>\n",
       "      <td>20.05.2013 14:50</td>\n",
       "      <td>20.05.2013 14:09</td>\n",
       "      <td>NaN</td>\n",
       "      <td>Dubai - Thousands of Arabtec Construction LLC ...</td>\n",
       "      <td>Media sources report that thousands of Arabtec...</td>\n",
       "      <td>1</td>\n",
       "      <td>General Strike</td>\n",
       "    </tr>\n",
       "  </tbody>\n",
       "</table>\n",
       "</div>"
      ],
      "text/plain": [
       "   Area                City Source complete               Country  \\\n",
       "0   NaN             Ontario            NIMC                Canada   \n",
       "1   NaN  Multiple Locations            NIMC  United Arab Emirates   \n",
       "\n",
       "  Created Date Time   Occurrence Date  Expiration Date  \\\n",
       "0  10.12.2012 18:55               NaN              NaN   \n",
       "1  20.05.2013 14:50  20.05.2013 14:09              NaN   \n",
       "\n",
       "                            Current Cleaned Headline  \\\n",
       "0  *Updated Loc* Ontario-Ontario elementary schoo...   \n",
       "1  Dubai - Thousands of Arabtec Construction LLC ...   \n",
       "\n",
       "                         Current Cleaned Description  Severity Number  \\\n",
       "0  Media reports indicate that members of the Ele...                2   \n",
       "1  Media sources report that thousands of Arabtec...                1   \n",
       "\n",
       "             Categories  \n",
       "0  Civil Service Strike  \n",
       "1        General Strike  "
      ]
     },
     "execution_count": 12,
     "metadata": {},
     "output_type": "execute_result"
    }
   ],
   "source": [
    "# data analysis and wrangling\n",
    "import pandas as pd\n",
    "import numpy as np\n",
    "import random as rnd\n",
    "import re\n",
    "from datetime import datetime\n",
    "# visualization\n",
    "import seaborn as sns\n",
    "import matplotlib.pyplot as plt\n",
    "%matplotlib inline\n",
    "\n",
    "# machine learning\n",
    "from sklearn.linear_model import LogisticRegression\n",
    "from sklearn.svm import SVC, LinearSVC\n",
    "from sklearn.ensemble import RandomForestClassifier\n",
    "from sklearn.neighbors import KNeighborsClassifier\n",
    "from sklearn.naive_bayes import GaussianNB\n",
    "from sklearn.linear_model import Perceptron\n",
    "from sklearn.linear_model import SGDClassifier\n",
    "from sklearn.tree import DecisionTreeClassifier\n",
    "from sklearn.metrics import roc_auc_score\n",
    "\n",
    "odata_df = pd.read_csv('.\\\\samples\\\\sample.csv')\n",
    "combine = [odata_df]\n",
    "\n",
    "odata_df.shape\n",
    "\n",
    "odata_df = odata_df.drop(['Closed Date Time','Geolocation (Latitude)','Geolocation (Longitude)','Incident: Incident Name'], axis=1)\n",
    "odata_df.head(2)\n",
    "\n"
   ]
  },
  {
   "cell_type": "code",
   "execution_count": 13,
   "metadata": {},
   "outputs": [
    {
     "data": {
      "text/plain": [
       "0     Monday\n",
       "1     Monday\n",
       "2     Monday\n",
       "3     Monday\n",
       "4    Tuesday\n",
       "5    Tuesday\n",
       "6    Tuesday\n",
       "7    Tuesday\n",
       "8    Tuesday\n",
       "9    Tuesday\n",
       "Name: Created Weekday, dtype: object"
      ]
     },
     "execution_count": 13,
     "metadata": {},
     "output_type": "execute_result"
    }
   ],
   "source": [
    "daymap = {0:'Monday', 1:'Tuesday',2:'Wednesday', 3:'Thursday',4:'Friday',5:'Saturday',6: 'Sunday'}\n",
    "odata_df['Created Weekday']=  odata_df['Created Date Time'].apply(lambda x:  datetime.strptime(x, '%d.%m.%Y %H:%M').weekday())\n",
    "odata_df['Created Weekday'] = odata_df['Created Weekday'].map(daymap)\n",
    "odata_df['Created Weekday'].head(10)"
   ]
  },
  {
   "cell_type": "code",
   "execution_count": null,
   "metadata": {},
   "outputs": [],
   "source": []
  }
 ],
 "metadata": {
  "kernelspec": {
   "display_name": "Python 3",
   "language": "python",
   "name": "python3"
  },
  "language_info": {
   "codemirror_mode": {
    "name": "ipython",
    "version": 3
   },
   "file_extension": ".py",
   "mimetype": "text/x-python",
   "name": "python",
   "nbconvert_exporter": "python",
   "pygments_lexer": "ipython3",
   "version": "3.6.4"
  }
 },
 "nbformat": 4,
 "nbformat_minor": 2
}
