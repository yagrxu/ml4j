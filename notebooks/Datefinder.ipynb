{
 "cells": [
  {
   "cell_type": "code",
   "execution_count": 7,
   "metadata": {},
   "outputs": [
    {
     "name": "stdout",
     "output_type": "stream",
     "text": [
      "2016-03-15 00:00:00\n",
      "2018-03-15 00:00:00\n",
      "2018-03-15 00:00:00\n",
      "2018-03-15 00:00:00\n",
      "2018-03-04 00:00:00\n"
     ]
    }
   ],
   "source": [
    "from datefinder.util.date_finder import DateFinder\n",
    "\n",
    "finder = DateFinder()\n",
    "test_data = [\"Sunday, March 15-16.\", \"Sunday, 3/15.\",\"Sunday, March 15.\",\"Sunday, March 15 and 16.\",\"Sunday, March 4;5\"]\n",
    "\n",
    "    \n",
    "for item in test_data:\n",
    "    matches = finder.find_dates(item)\n",
    "    for match in matches:\n",
    "        print(match)\n",
    "\n",
    "\n",
    "\n"
   ]
  },
  {
   "cell_type": "code",
   "execution_count": null,
   "metadata": {},
   "outputs": [],
   "source": []
  },
  {
   "cell_type": "code",
   "execution_count": null,
   "metadata": {},
   "outputs": [],
   "source": []
  },
  {
   "cell_type": "code",
   "execution_count": null,
   "metadata": {},
   "outputs": [],
   "source": []
  }
 ],
 "metadata": {
  "kernelspec": {
   "display_name": "Python 3",
   "language": "python",
   "name": "python3"
  },
  "language_info": {
   "codemirror_mode": {
    "name": "ipython",
    "version": 3
   },
   "file_extension": ".py",
   "mimetype": "text/x-python",
   "name": "python",
   "nbconvert_exporter": "python",
   "pygments_lexer": "ipython3",
   "version": "3.6.4"
  }
 },
 "nbformat": 4,
 "nbformat_minor": 2
}
