{
 "cells": [
  {
   "cell_type": "code",
   "execution_count": 51,
   "metadata": {},
   "outputs": [
    {
     "data": {
      "text/plain": [
       "0            0\n",
       "1            0\n",
       "2            0\n",
       "3            0\n",
       "4      Tuesday\n",
       "5      Tuesday\n",
       "6    Wednesday\n",
       "7     Thursday\n",
       "8       Friday\n",
       "9       Friday\n",
       "Name: Created Weekday, dtype: object"
      ]
     },
     "execution_count": 51,
     "metadata": {},
     "output_type": "execute_result"
    }
   ],
   "source": [
    "# data analysis and wrangling\n",
    "import pandas as pd\n",
    "import numpy as np\n",
    "import random as rnd\n",
    "import re\n",
    "from datetime import datetime\n",
    "datetime.strptime('1 Jun 2005  1:33PM', '%d %b %Y %I:%M%p')\n",
    "\n",
    "lambda x:  datetime.strptime(x, '%d.%m.%Y %H:%M').weekday() \n",
    "\n",
    "\n",
    "# visualization\n",
    "import seaborn as sns\n",
    "import matplotlib.pyplot as plt\n",
    "%matplotlib inline\n",
    "\n",
    "# machine learning\n",
    "from sklearn.linear_model import LogisticRegression\n",
    "from sklearn.svm import SVC, LinearSVC\n",
    "from sklearn.ensemble import RandomForestClassifier\n",
    "from sklearn.neighbors import KNeighborsClassifier\n",
    "from sklearn.naive_bayes import GaussianNB\n",
    "from sklearn.linear_model import Perceptron\n",
    "from sklearn.linear_model import SGDClassifier\n",
    "from sklearn.tree import DecisionTreeClassifier\n",
    "from sklearn.metrics import roc_auc_score\n",
    "\n",
    "odata_df = pd.read_csv('C:\\\\Users\\\\jduan\\\\Downloads\\\\strike.csv')\n",
    "combine = [odata_df]\n",
    "\n",
    "odata_df.shape\n",
    "\n",
    "odata_df = odata_df.drop(['Closed Date Time','Geolocation (Latitude)','Geolocation (Longitude)','Incident: Incident Name'], axis=1)\n",
    "odata_df.head(2)\n",
    "\n",
    "\n",
    "\n",
    "for dataset in combine:\n",
    "    \n",
    "    dataset['Created Weekday']=  dataset['Created Date Time'].apply(lambda x:  datetime.strptime(x, '%d.%m.%Y %H:%M').weekday())\n",
    "\n",
    "    dataset['Created Weekday'] = dataset['Created Weekday'].replace('0', 'Monday')\n",
    "    dataset['Created Weekday'] = dataset['Created Weekday'].replace('1', 'Tuesday')\n",
    "    dataset['Created Weekday'] = dataset['Created Weekday'].replace('2', 'Wednesday')\n",
    "    dataset['Created Weekday'] = dataset['Created Weekday'].replace('3', 'Thursday')\n",
    "    dataset['Created Weekday'] = dataset['Created Weekday'].replace('4', 'Friday')\n",
    "    dataset['Created Weekday'] = dataset['Created Weekday'].replace('5', 'Saturday')\n",
    "    dataset['Created Weekday'] = dataset['Created Weekday'].replace('6', 'Sunday')\n",
    "dataset['Created Weekday'].head(10)\n",
    "    \n"
   ]
  },
  {
   "cell_type": "code",
   "execution_count": null,
   "metadata": {},
   "outputs": [],
   "source": []
  }
 ],
 "metadata": {
  "kernelspec": {
   "display_name": "Python 3",
   "language": "python",
   "name": "python3"
  },
  "language_info": {
   "codemirror_mode": {
    "name": "ipython",
    "version": 3
   },
   "file_extension": ".py",
   "mimetype": "text/x-python",
   "name": "python",
   "nbconvert_exporter": "python",
   "pygments_lexer": "ipython3",
   "version": "3.6.4"
  }
 },
 "nbformat": 4,
 "nbformat_minor": 2
}
